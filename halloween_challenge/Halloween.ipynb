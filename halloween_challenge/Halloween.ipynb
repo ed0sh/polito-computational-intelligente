{
 "cells": [
  {
   "cell_type": "markdown",
   "id": "185f9931-b384-4fdc-a5b2-eea785428bb8",
   "metadata": {},
   "source": [
    "Copyright **`(c)`** 2023 Giovanni Squillero & Edoardo Franco `<giovanni.squillero@polito.it>` `<s310228@studenti.polito.it>`  \n",
    "[`https://github.com/squillero/computational-intelligence`](https://github.com/squillero/computational-intelligence)  \n",
    "Free for personal or classroom use; see [`LICENSE.md`](https://github.com/squillero/computational-intelligence/blob/master/LICENSE.md) for details.  "
   ]
  },
  {
   "cell_type": "code",
   "execution_count": 229,
   "id": "3ffe7245-e849-41d0-9698-5f0e0b83fee9",
   "metadata": {
    "ExecuteTime": {
     "end_time": "2023-10-30T21:13:08.456808Z",
     "start_time": "2023-10-30T21:13:08.453483Z"
    }
   },
   "outputs": [],
   "source": [
    "from itertools import product\n",
    "from random import random, randint, shuffle, seed, choice\n",
    "from scipy import sparse\n",
    "from functools import reduce\n",
    "from copy import copy\n",
    "\n",
    "import numpy as np"
   ]
  },
  {
   "cell_type": "code",
   "execution_count": 230,
   "id": "6f03bd67-78a0-4d72-95b7-77a918727b91",
   "metadata": {
    "ExecuteTime": {
     "end_time": "2023-10-30T21:13:08.469228Z",
     "start_time": "2023-10-30T21:13:08.458398Z"
    }
   },
   "outputs": [],
   "source": [
    "def make_set_covering_problem(num_points, num_sets, density):\n",
    "    \"\"\"Returns a sparse array where rows are sets and columns are the covered items\"\"\"\n",
    "    seed(num_points*2654435761+num_sets+density)\n",
    "    sets = sparse.lil_array((num_sets, num_points), dtype=bool)\n",
    "    for s, p in product(range(num_sets), range(num_points)):\n",
    "        if random() < density:\n",
    "            sets[s, p] = True\n",
    "    for p in range(num_points):\n",
    "        sets[randint(0, num_sets-1), p] = True\n",
    "    return sets"
   ]
  },
  {
   "cell_type": "markdown",
   "id": "82b0be37-21d9-492d-9a1d-cf0cdf0ddd76",
   "metadata": {},
   "source": [
    "# Halloween Challenge\n",
    "\n",
    "Find the best solution with the fewest calls to the fitness functions for:\n",
    "\n",
    "* `num_points = [100, 1_000, 5_000]`\n",
    "* `num_sets = num_points`\n",
    "* `density = [.3, .7]` "
   ]
  },
  {
   "cell_type": "code",
   "execution_count": 231,
   "id": "221ffdba-5d3d-48cc-bd08-45ccc9366ea6",
   "metadata": {
    "ExecuteTime": {
     "end_time": "2023-10-30T21:13:08.484044Z",
     "start_time": "2023-10-30T21:13:08.471290Z"
    }
   },
   "outputs": [
    {
     "name": "stdout",
     "output_type": "stream",
     "text": [
      "Element at row=42 and column=42: True\n"
     ]
    }
   ],
   "source": [
    "num_points = 100\n",
    "num_sets = num_points\n",
    "density = 0.3\n",
    "max_iter = 10_000\n",
    "random_restart_prob = 0.05\n",
    "\n",
    "fitness_call = 0\n",
    "found_in_tabu_list = 0\n",
    "restarts = 0\n",
    "\n",
    "x = make_set_covering_problem(num_points, num_sets, density).toarray()\n",
    "print(\"Element at row=42 and column=42:\", x[42, 42])"
   ]
  },
  {
   "cell_type": "code",
   "execution_count": 232,
   "outputs": [],
   "source": [
    "def fitness1(state):\n",
    "    cost = sum(state)\n",
    "    valid = np.all(\n",
    "        reduce(\n",
    "            np.logical_or,\n",
    "            [x[i] for i, t in enumerate(state) if t],\n",
    "            np.array([False for _ in range(num_points)]),\n",
    "        )\n",
    "    )\n",
    "    return valid, -cost\n",
    "\n",
    "def fitness2(state):\n",
    "    # Number of taken sets\n",
    "    cost = sum(state)\n",
    "    \n",
    "    # Nuber of covered points\n",
    "    valid = np.sum(\n",
    "        reduce(\n",
    "            np.logical_or,\n",
    "            [x[i] for i, t in enumerate(state) if t],\n",
    "            np.array([False for _ in range(num_points)]),\n",
    "        )\n",
    "    )\n",
    "    return valid, -cost\n",
    "\n",
    "fitness = fitness2"
   ],
   "metadata": {
    "collapsed": false,
    "ExecuteTime": {
     "end_time": "2023-10-30T21:13:08.484171Z",
     "start_time": "2023-10-30T21:13:08.475766Z"
    }
   },
   "id": "b575aaaaf1bec8b2"
  },
  {
   "cell_type": "code",
   "execution_count": 233,
   "outputs": [],
   "source": [
    "def tweak(state, restarts):\n",
    "    new_state = copy(state)\n",
    "    index = randint(0, num_points - 1)\n",
    "    new_state[index] = not new_state[index]\n",
    "\n",
    "    if random() < random_restart_prob:\n",
    "        new_state = np.array([random() < density for _ in range(num_points)]).tolist()\n",
    "        restarts += 1\n",
    "\n",
    "    return new_state, restarts"
   ],
   "metadata": {
    "collapsed": false,
    "ExecuteTime": {
     "end_time": "2023-10-30T21:13:08.484255Z",
     "start_time": "2023-10-30T21:13:08.479927Z"
    }
   },
   "id": "f57c907a60538c85"
  },
  {
   "cell_type": "code",
   "execution_count": 234,
   "outputs": [
    {
     "name": "stdout",
     "output_type": "stream",
     "text": [
      "(0, 0)\n",
      "(25, -1)\n",
      "(46, -2)\n",
      "(60, -3)\n",
      "(75, -4)\n",
      "(82, -5)\n",
      "(86, -6)\n",
      "(92, -7)\n",
      "(95, -8)\n",
      "(97, -9)\n",
      "(99, -10)\n",
      "(100, -11)\n",
      "fitness calls: 15\n",
      "Tabu list hits: 0, tabu list dimension: 11\n",
      "Random restarts: 0\n"
     ]
    }
   ],
   "source": [
    "current_state = [choice([False, False, False, False, False, False]) for _ in range(num_sets)]\n",
    "print(fitness(current_state))\n",
    "\n",
    "# ILS + tabu search\n",
    "tabu_list = []\n",
    "\n",
    "for step in range(max_iter):\n",
    "    new_state, restarts = tweak(current_state, restarts)\n",
    "\n",
    "    while new_state in tabu_list:\n",
    "        print(\"Already in tabu list\")\n",
    "        found_in_tabu_list += 1\n",
    "        new_state, restarts = tweak(current_state, restarts)\n",
    "\n",
    "    fitness_call += 1\n",
    "    if fitness(new_state) >= fitness(current_state):\n",
    "        current_state = new_state\n",
    "        tabu_list.append(new_state)\n",
    "        print(fitness(current_state))\n",
    "        \n",
    "        if fitness(current_state)[0] == num_points:\n",
    "            break\n",
    "\n",
    "print(f\"fitness calls: {fitness_call}\")\n",
    "print(f\"Tabu list hits: {found_in_tabu_list}, tabu list dimension: {len(tabu_list)}\")\n",
    "print(f\"Random restarts: {restarts}\")"
   ],
   "metadata": {
    "collapsed": false,
    "ExecuteTime": {
     "end_time": "2023-10-30T21:13:08.488841Z",
     "start_time": "2023-10-30T21:13:08.486016Z"
    }
   },
   "id": "8a4408e9ff69b5a1"
  }
 ],
 "metadata": {
  "kernelspec": {
   "display_name": "Python 3 (ipykernel)",
   "language": "python",
   "name": "python3"
  },
  "language_info": {
   "codemirror_mode": {
    "name": "ipython",
    "version": 3
   },
   "file_extension": ".py",
   "mimetype": "text/x-python",
   "name": "python",
   "nbconvert_exporter": "python",
   "pygments_lexer": "ipython3",
   "version": "3.11.2"
  }
 },
 "nbformat": 4,
 "nbformat_minor": 5
}
