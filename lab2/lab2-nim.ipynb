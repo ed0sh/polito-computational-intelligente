{
 "cells": [
  {
   "cell_type": "markdown",
   "metadata": {},
   "source": [
    "Copyright **`(c)`** 2022 Giovanni Squillero `<squillero@polito.it>`  \n",
    "[`https://github.com/squillero/computational-intelligence`](https://github.com/squillero/computational-intelligence)  \n",
    "Free for personal or classroom use; see [`LICENSE.md`](https://github.com/squillero/computational-intelligence/blob/master/LICENSE.md) for details.  \n"
   ]
  },
  {
   "cell_type": "markdown",
   "source": [
    "# Lab 3: ES\n",
    "\n",
    "## Task\n",
    "\n",
    "Write agents able to play [*Nim*](https://en.wikipedia.org/wiki/Nim), with an arbitrary number of rows and an upper bound $k$ on the number of objects that can be removed in a turn (a.k.a., *subtraction game*).\n",
    "\n",
    "The goal of the game is to **avoid** taking the last object.\n",
    "\n",
    "* Task2.1: An agent using fixed rules based on *nim-sum* (i.e., an *expert system*)\n",
    "* Task2.2: An agent using evolved rules using ES\n",
    "\n",
    "## Instructions\n",
    "\n",
    "* Create the directory `lab2` inside the course repo \n",
    "* Put a `README.md` and your solution (all the files, code and auxiliary data if needed)\n",
    "\n",
    "## Notes\n",
    "\n",
    "* Working in group is not only allowed, but recommended (see: [Ubuntu](https://en.wikipedia.org/wiki/Ubuntu_philosophy) and [Cooperative Learning](https://files.eric.ed.gov/fulltext/EJ1096789.pdf)). Collaborations must be explicitly declared in the `README.md`.\n",
    "* [Yanking](https://www.emacswiki.org/emacs/KillingAndYanking) from the internet is allowed, but sources must be explicitly declared in the `README.md`.\n",
    "\n"
   ],
   "metadata": {
    "collapsed": false
   }
  },
  {
   "cell_type": "code",
   "execution_count": 430,
   "metadata": {
    "ExecuteTime": {
     "end_time": "2023-11-17T11:13:28.623778Z",
     "start_time": "2023-11-17T11:13:28.595137Z"
    }
   },
   "outputs": [],
   "source": [
    "import inspect\n",
    "import logging\n",
    "import random\n",
    "\n",
    "import numpy as np\n",
    "\n",
    "from pprint import pprint, pformat\n",
    "from collections import namedtuple\n",
    "from copy import deepcopy\n",
    "from matplotlib import pyplot as plt\n",
    "from tqdm import tqdm"
   ]
  },
  {
   "cell_type": "markdown",
   "metadata": {},
   "source": [
    "## The *Nim* and *Nimply* classes"
   ]
  },
  {
   "cell_type": "code",
   "execution_count": 431,
   "metadata": {
    "ExecuteTime": {
     "end_time": "2023-11-17T11:13:28.630113Z",
     "start_time": "2023-11-17T11:13:28.599322Z"
    }
   },
   "outputs": [],
   "source": [
    "Nimply = namedtuple(\"Nimply\", \"row, num_objects\")\n"
   ]
  },
  {
   "cell_type": "code",
   "execution_count": 432,
   "metadata": {
    "ExecuteTime": {
     "end_time": "2023-11-17T11:13:28.643773Z",
     "start_time": "2023-11-17T11:13:28.604493Z"
    }
   },
   "outputs": [],
   "source": [
    "class Nim:\n",
    "    def __init__(self, num_rows: int, k: int = None) -> None:\n",
    "        self._rows = [i * 2 + 1 for i in range(num_rows)]\n",
    "        self._k = k\n",
    "\n",
    "    def __bool__(self):\n",
    "        return sum(self._rows) > 0\n",
    "\n",
    "    def __str__(self):\n",
    "        return \"<\" + \" \".join(str(_) for _ in self._rows) + \">\"\n",
    "\n",
    "    @property\n",
    "    def rows(self) -> tuple:\n",
    "        return tuple(self._rows)\n",
    "\n",
    "    def nimming(self, ply: Nimply) -> None:\n",
    "        row, num_objects = ply\n",
    "        assert self._rows[row] >= num_objects\n",
    "        assert self._k is None or num_objects <= self._k\n",
    "        self._rows[row] -= num_objects\n"
   ]
  },
  {
   "cell_type": "markdown",
   "metadata": {},
   "source": [
    "## Sample (and silly) startegies "
   ]
  },
  {
   "cell_type": "code",
   "execution_count": 433,
   "metadata": {
    "ExecuteTime": {
     "end_time": "2023-11-17T11:13:28.661218Z",
     "start_time": "2023-11-17T11:13:28.609095Z"
    }
   },
   "outputs": [],
   "source": [
    "def pure_random(state: Nim) -> Nimply:\n",
    "    \"\"\"A completely random move\"\"\"\n",
    "    row = random.choice([r for r, c in enumerate(state.rows) if c > 0])\n",
    "    num_objects = random.randint(1, state.rows[row])\n",
    "    return Nimply(row, num_objects)\n"
   ]
  },
  {
   "cell_type": "code",
   "execution_count": 434,
   "metadata": {
    "ExecuteTime": {
     "end_time": "2023-11-17T11:13:28.661682Z",
     "start_time": "2023-11-17T11:13:28.612952Z"
    }
   },
   "outputs": [],
   "source": [
    "def gabriele(state: Nim) -> Nimply:\n",
    "    \"\"\"Pick always the maximum possible number of the lowest row\"\"\"\n",
    "    possible_moves = [(r, o) for r, c in enumerate(state.rows) for o in range(1, c + 1)]\n",
    "    return Nimply(*max(possible_moves, key=lambda m: (-m[0], m[1])))\n"
   ]
  },
  {
   "cell_type": "code",
   "execution_count": 435,
   "metadata": {
    "ExecuteTime": {
     "end_time": "2023-11-17T11:13:28.661728Z",
     "start_time": "2023-11-17T11:13:28.615779Z"
    }
   },
   "outputs": [],
   "source": [
    "def adaptive(state: Nim) -> Nimply:\n",
    "    \"\"\"A strategy that can adapt its parameters\"\"\"\n",
    "    genome = {\"love_small\": 0.5}\n"
   ]
  },
  {
   "cell_type": "code",
   "execution_count": 436,
   "metadata": {
    "ExecuteTime": {
     "end_time": "2023-11-17T11:13:28.661765Z",
     "start_time": "2023-11-17T11:13:28.621606Z"
    }
   },
   "outputs": [],
   "source": [
    "def nim_sum(state: Nim) -> int:\n",
    "    tmp = np.array([tuple(int(x) for x in f\"{c:032b}\") for c in state.rows])\n",
    "    xor = tmp.sum(axis=0) % 2\n",
    "    return int(\"\".join(str(_) for _ in xor), base=2)\n",
    "\n",
    "\n",
    "def analize(raw: Nim) -> dict:\n",
    "    cooked = dict()\n",
    "    cooked[\"possible_moves\"] = dict()\n",
    "    for ply in (Nimply(r, o) for r, c in enumerate(raw.rows) for o in range(1, c + 1)):\n",
    "        tmp = deepcopy(raw)\n",
    "        tmp.nimming(ply)\n",
    "        cooked[\"possible_moves\"][ply] = nim_sum(tmp)\n",
    "    return cooked\n",
    "\n",
    "\n",
    "def optimal(state: Nim) -> Nimply:\n",
    "    analysis = analize(state)\n",
    "    logging.debug(f\"analysis:\\n{pformat(analysis)}\")\n",
    "    spicy_moves = [ply for ply, ns in analysis[\"possible_moves\"].items() if ns != 0]\n",
    "    if not spicy_moves:\n",
    "        spicy_moves = list(analysis[\"possible_moves\"].keys())\n",
    "    ply = random.choice(spicy_moves)\n",
    "    return ply\n"
   ]
  },
  {
   "cell_type": "markdown",
   "metadata": {},
   "source": [
    "## Oversimplified match"
   ]
  },
  {
   "cell_type": "code",
   "execution_count": 437,
   "metadata": {
    "ExecuteTime": {
     "end_time": "2023-11-17T11:13:28.662929Z",
     "start_time": "2023-11-17T11:13:28.625487Z"
    }
   },
   "outputs": [
    {
     "name": "stderr",
     "output_type": "stream",
     "text": [
      "INFO:root:init : <1 3 5 7 9>\n",
      "INFO:root:ply: player 0 plays Nimply(row=3, num_objects=4)\n",
      "INFO:root:status: <1 3 5 3 9>\n",
      "INFO:root:ply: player 1 plays Nimply(row=0, num_objects=1)\n",
      "INFO:root:status: <0 3 5 3 9>\n",
      "INFO:root:ply: player 0 plays Nimply(row=4, num_objects=8)\n",
      "INFO:root:status: <0 3 5 3 1>\n",
      "INFO:root:ply: player 1 plays Nimply(row=2, num_objects=4)\n",
      "INFO:root:status: <0 3 1 3 1>\n",
      "INFO:root:ply: player 0 plays Nimply(row=2, num_objects=1)\n",
      "INFO:root:status: <0 3 0 3 1>\n",
      "INFO:root:ply: player 1 plays Nimply(row=4, num_objects=1)\n",
      "INFO:root:status: <0 3 0 3 0>\n",
      "INFO:root:ply: player 0 plays Nimply(row=3, num_objects=3)\n",
      "INFO:root:status: <0 3 0 0 0>\n",
      "INFO:root:ply: player 1 plays Nimply(row=1, num_objects=1)\n",
      "INFO:root:status: <0 2 0 0 0>\n",
      "INFO:root:ply: player 0 plays Nimply(row=1, num_objects=1)\n",
      "INFO:root:status: <0 1 0 0 0>\n",
      "INFO:root:ply: player 1 plays Nimply(row=1, num_objects=1)\n",
      "INFO:root:status: <0 0 0 0 0>\n",
      "INFO:root:status: Player 0 won!\n"
     ]
    }
   ],
   "source": [
    "logging.getLogger().setLevel(logging.INFO)\n",
    "\n",
    "strategy = (optimal, pure_random)\n",
    "\n",
    "nim = Nim(5)\n",
    "logging.info(f\"init : {nim}\")\n",
    "player = 0\n",
    "while nim:\n",
    "    ply = strategy[player](nim)\n",
    "    logging.info(f\"ply: player {player} plays {ply}\")\n",
    "    nim.nimming(ply)\n",
    "    logging.info(f\"status: {nim}\")\n",
    "    player = 1 - player\n",
    "logging.info(f\"status: Player {player} won!\")\n"
   ]
  },
  {
   "cell_type": "markdown",
   "source": [
    "## Evolutionary approach"
   ],
   "metadata": {
    "collapsed": false
   }
  },
  {
   "cell_type": "code",
   "execution_count": 438,
   "outputs": [],
   "source": [
    "NUM_ROWS = 5\n",
    "NUM_RULES = 15\n",
    "POPULATION_SIZE = 10\n",
    "OFFSPRING_SIZE = 40\n",
    "TOURNAMENT_SIZE = 2\n",
    "MUTATION_PROBABILITY = 0.15\n",
    "GAMES_PER_AGENT = 50"
   ],
   "metadata": {
    "collapsed": false,
    "ExecuteTime": {
     "end_time": "2023-11-17T11:13:28.662997Z",
     "start_time": "2023-11-17T11:13:28.640760Z"
    }
   }
  },
  {
   "cell_type": "code",
   "execution_count": 439,
   "outputs": [],
   "source": [
    "from typing import Callable\n",
    "\n",
    "\n",
    "class Rule:\n",
    "    def __init__(self, condition: Callable, action: Nimply, weight):\n",
    "        self.condition = condition\n",
    "        self.action = action\n",
    "        self.weight = weight\n",
    "\n",
    "    def update_weight(self, positive: bool):\n",
    "        if positive:\n",
    "            self.weight = min(1, self.weight * 1.1)\n",
    "        else:\n",
    "            self.weight /= 1.1\n",
    "    \n",
    "    # Set weight of unfeasible rules to 0\n",
    "    def slash(self):\n",
    "        self.weight = 0\n",
    "\n",
    "\n",
    "class NimAgent:\n",
    "    def __init__(self, rules: list[Rule]):\n",
    "        self._rules = rules\n",
    "        self._played = 0\n",
    "        self._won = 0\n",
    "\n",
    "    def get_rules(self) -> list[Rule]:\n",
    "        return self._rules\n",
    "\n",
    "    def make_move(self, state: Nim) -> Nimply:\n",
    "        for i, rule in enumerate(self._rules):\n",
    "            # Verify if the condition is valid or not and if it's unfeasible, slash its weight\n",
    "            if state.rows[rule.action.row] >= rule.action.num_objects:\n",
    "                new_state = deepcopy(state)\n",
    "                new_state.nimming(rule.action)\n",
    "    \n",
    "                if rule.condition(new_state):\n",
    "                    return rule.action\n",
    "                \n",
    "            # To slash rule, first check that is globally unfeasible and not only for the current turn\n",
    "            elif state.rows[rule.action.row] == ((rule.action.row + 1) * 2 - 1) and rule.weight != 0:\n",
    "                rule.slash()\n",
    "\n",
    "        # in case none of the rules of the agent matches, then go random\n",
    "        return pure_random(state)\n",
    "\n",
    "    def played(self, won: bool) -> None:\n",
    "        if won:\n",
    "            self._won += 1\n",
    "        \n",
    "        for weight in self._rules:\n",
    "            weight.update_weight(won)\n",
    "        \n",
    "        self._played += 1\n",
    "    \n",
    "    def reset_fitness(self):\n",
    "        self._won = self._played = 0\n",
    "    \n",
    "    def fitness(self) -> float:\n",
    "        if self._played != 0:\n",
    "            return self._won / self._played\n",
    "        else:\n",
    "            return 0"
   ],
   "metadata": {
    "collapsed": false,
    "ExecuteTime": {
     "end_time": "2023-11-17T11:13:28.663768Z",
     "start_time": "2023-11-17T11:13:28.646620Z"
    }
   }
  },
  {
   "cell_type": "code",
   "execution_count": 440,
   "metadata": {
    "ExecuteTime": {
     "end_time": "2023-11-17T11:13:28.663855Z",
     "start_time": "2023-11-17T11:13:28.652973Z"
    }
   },
   "outputs": [],
   "source": [
    "# generate a set of \"almost\" random conditions\n",
    "def define_conditions():\n",
    "    conditions = []\n",
    "\n",
    "    # num_elements_conditions\n",
    "    for row in range(NUM_ROWS):\n",
    "        for elem in range((NUM_ROWS + 1) * 2 - 1):\n",
    "            conditions.append(lambda state: state.rows[row] >= elem)\n",
    "            conditions.append(lambda state: state.rows[row] < elem)\n",
    "\n",
    "    # odd_elem_conditions\n",
    "    for row in range(NUM_ROWS):\n",
    "        conditions.append(lambda state: state.rows[row] % 2 == 1)\n",
    "        conditions.append(lambda state: state.rows[row] % 2 == 0)\n",
    "\n",
    "    # sum_elem_conditions\n",
    "    conditions.append(lambda state: sum(state.rows) % 2 == 1)\n",
    "    conditions.append(lambda state: sum(state.rows) % 2 == 0)\n",
    "    conditions.append(lambda state: sum(state.rows) < NUM_ROWS ** 2 // 2)\n",
    "\n",
    "    # other\n",
    "    conditions.append(lambda state: np.sum(np.array(state.rows) == 0) > 2)\n",
    "    conditions.append(lambda state: np.sum(np.array(state.rows) == 0) <= 2)\n",
    "\n",
    "    # nim_sum\n",
    "    # conditions.append(lambda state: nim_sum(state) != 0)\n",
    "    \n",
    "    return conditions\n",
    "\n",
    "def define_moves(state: Nim) -> list:\n",
    "    moves = []\n",
    "    for ply in (Nimply(r, o) for r, c in enumerate(state.rows) for o in range(1, c + 1)):\n",
    "        moves.append(ply)\n",
    "    return moves\n",
    "\n",
    "\n",
    "def generate_rules(conditions: list, moves: list):\n",
    "    rules = []\n",
    "    for condition in conditions:\n",
    "        for move in moves:\n",
    "            # generate rule with a fixed weight\n",
    "            rules.append(Rule(condition, move, 0.5))\n",
    "\n",
    "    return rules\n",
    "\n",
    "\n",
    "def initialize_population(rules: list) -> list[NimAgent]:\n",
    "    population = []\n",
    "\n",
    "    for _ in range(POPULATION_SIZE):\n",
    "        individual_rules = []\n",
    "\n",
    "        for _ in range(NUM_RULES):\n",
    "            # get a random rule\n",
    "            rule = random.choice(rules)\n",
    "            individual_rules.append(rule)\n",
    "\n",
    "        population.append(NimAgent(individual_rules))\n",
    "\n",
    "    return population"
   ]
  },
  {
   "cell_type": "code",
   "execution_count": 441,
   "outputs": [],
   "source": [
    "conditions = define_conditions()\n",
    "moves = define_moves(Nim(NUM_ROWS))\n",
    "rules = generate_rules(conditions, moves)\n",
    "initial_population = initialize_population(rules)"
   ],
   "metadata": {
    "collapsed": false,
    "ExecuteTime": {
     "end_time": "2023-11-17T11:13:28.663905Z",
     "start_time": "2023-11-17T11:13:28.657478Z"
    }
   }
  },
  {
   "cell_type": "code",
   "execution_count": 442,
   "outputs": [],
   "source": [
    "def parent_selection(population: list[NimAgent]) -> NimAgent:\n",
    "    chosen_agents = [random.choice(population) for _ in range(TOURNAMENT_SIZE)]\n",
    "\n",
    "    best_parent = None\n",
    "    best_parent_fitness = None\n",
    "\n",
    "    for agent in chosen_agents:\n",
    "        cur_parent_fitness = agent.fitness()\n",
    "\n",
    "        if best_parent_fitness is None or cur_parent_fitness < best_parent_fitness:\n",
    "            best_parent_fitness = cur_parent_fitness\n",
    "            best_parent = agent\n",
    "\n",
    "    return best_parent\n",
    "\n",
    "\n",
    "def mutate(agent: NimAgent) -> NimAgent:\n",
    "    new_rules = deepcopy(agent.get_rules())\n",
    "    rule_to_be_changed_idx = random.randint(0, NUM_RULES - 1)\n",
    "    # random choice but weighted according to the rules weights\n",
    "    new_rule = random.choices(rules, weights=[rule.weight + 0.001 for rule in rules], k=1)[0]\n",
    "    new_rules[rule_to_be_changed_idx] = new_rule\n",
    "    return NimAgent(new_rules)\n",
    "\n",
    "\n",
    "def crossover(agent1: NimAgent, agent2: NimAgent) -> NimAgent:\n",
    "    rules1 = agent1.get_rules()\n",
    "    rules2 = agent2.get_rules()\n",
    "    \n",
    "    # Uniform crossover\n",
    "    new_rules = []\n",
    "    for i in range(NUM_RULES):\n",
    "        # random choice but weighted according to the rules weights\n",
    "        new_rules.append(random.choices([rules1[i], rules2[i]], weights=[rule.weight + 0.001 for rule in [rules1[i], rules2[i]]], k=1)[0])\n",
    "    \n",
    "    return NimAgent(new_rules)"
   ],
   "metadata": {
    "collapsed": false,
    "ExecuteTime": {
     "end_time": "2023-11-17T11:13:28.676577Z",
     "start_time": "2023-11-17T11:13:28.662312Z"
    }
   }
  },
  {
   "cell_type": "code",
   "execution_count": 443,
   "outputs": [],
   "source": [
    "def evaluate_agent(agent: NimAgent) -> None:\n",
    "    for game in range(GAMES_PER_AGENT):\n",
    "        # Remove the bias given by playing a lot of games consequently against the same opponent\n",
    "        strategy_opponent = random.choices([pure_random, gabriele, optimal], weights=[0.3, 0.2, 0.5], k=1)[0]\n",
    "        strategy = (strategy_opponent, agent.make_move)\n",
    "            \n",
    "        nim = Nim(NUM_ROWS)\n",
    "        player = 0\n",
    "        while nim:\n",
    "            ply = strategy[player](nim)\n",
    "            nim.nimming(ply)\n",
    "            player = 1 - player\n",
    "        \n",
    "        if player == 1:\n",
    "            agent.played(won=True)\n",
    "        else:\n",
    "            agent.played(won=False)"
   ],
   "metadata": {
    "collapsed": false,
    "ExecuteTime": {
     "end_time": "2023-11-17T11:13:28.680596Z",
     "start_time": "2023-11-17T11:13:28.665719Z"
    }
   }
  },
  {
   "cell_type": "code",
   "execution_count": 444,
   "outputs": [],
   "source": [
    "def evolutionary_strategy(population: list[NimAgent]) -> list[NimAgent]:\n",
    "    offspring = []\n",
    "\n",
    "    for counter in range(OFFSPRING_SIZE):\n",
    "        if random.random() < MUTATION_PROBABILITY:\n",
    "            # mutation\n",
    "            a = parent_selection(population)\n",
    "            o = mutate(a)\n",
    "        else:\n",
    "            # crossover\n",
    "            a1 = parent_selection(population)\n",
    "            a2 = parent_selection(population)\n",
    "            o = crossover(a1, a2)\n",
    "        evaluate_agent(o)\n",
    "        offspring.append(o)\n",
    "\n",
    "    population.extend(offspring)\n",
    "    population.sort(key=lambda agent: agent.fitness(), reverse=True)\n",
    "    taken = population[:POPULATION_SIZE]\n",
    "\n",
    "    return taken"
   ],
   "metadata": {
    "collapsed": false,
    "ExecuteTime": {
     "end_time": "2023-11-17T11:13:28.680676Z",
     "start_time": "2023-11-17T11:13:28.669933Z"
    }
   }
  },
  {
   "cell_type": "code",
   "execution_count": 445,
   "outputs": [
    {
     "name": "stderr",
     "output_type": "stream",
     "text": [
      "100%|██████████| 300/300 [19:42<00:00,  3.94s/it]\n"
     ]
    },
    {
     "data": {
      "text/plain": "<Figure size 640x480 with 1 Axes>",
      "image/png": "[encoded data removed]"
     },
     "metadata": {},
     "output_type": "display_data"
    }
   ],
   "source": [
    "EPOCHS = 500\n",
    "\n",
    "population = initial_population\n",
    "for agent in population:\n",
    "    evaluate_agent(agent)\n",
    "\n",
    "avg_fitnesses = []\n",
    "for _ in tqdm(range(EPOCHS)):\n",
    "    # print(f\"Running epoch {_}\")\n",
    "    new_population = evolutionary_strategy(population)\n",
    "    avg_fitness = np.average([agent.fitness() for agent in new_population])\n",
    "    # print(f\"\\tAverage fitness: {avg_fitness}\")\n",
    "    avg_fitnesses.append(avg_fitness)\n",
    "    population = new_population\n",
    "\n",
    "plt.plot(range(EPOCHS), avg_fitnesses)\n",
    "plt.show()"
   ],
   "metadata": {
    "collapsed": false,
    "ExecuteTime": {
     "end_time": "2023-11-17T11:33:12.379761Z",
     "start_time": "2023-11-17T11:13:28.733894Z"
    }
   }
  },
  {
   "cell_type": "code",
   "execution_count": 446,
   "outputs": [
    {
     "name": "stdout",
     "output_type": "stream",
     "text": [
      "Agent 0 won: 28/50\n",
      "Agent 1 won: 16/50\n",
      "Agent 2 won: 23/50\n",
      "Agent 3 won: 23/50\n",
      "Agent 4 won: 20/50\n",
      "Agent 5 won: 24/50\n",
      "Agent 6 won: 27/50\n",
      "Agent 7 won: 19/50\n",
      "Agent 8 won: 27/50\n",
      "Agent 9 won: 22/50\n"
     ]
    }
   ],
   "source": [
    "for i, agent in enumerate(population):\n",
    "    agent.reset_fitness()\n",
    "    for _ in range(GAMES_PER_AGENT):\n",
    "        strategy = (optimal, agent.make_move)\n",
    "        \n",
    "        nim = Nim(NUM_ROWS)\n",
    "        player = 0\n",
    "        while nim:\n",
    "            ply = strategy[player](nim)\n",
    "            nim.nimming(ply)\n",
    "            player = 1 - player\n",
    "        \n",
    "        if player == 1:\n",
    "            agent.played(won=True)\n",
    "        else:\n",
    "            agent.played(won=False)\n",
    "    \n",
    "    print(f\"Agent {i} won: {int(agent.fitness() * GAMES_PER_AGENT)}/{GAMES_PER_AGENT}\")"
   ],
   "metadata": {
    "collapsed": false,
    "ExecuteTime": {
     "end_time": "2023-11-17T11:33:14.273726Z",
     "start_time": "2023-11-17T11:33:12.385366Z"
    }
   }
  },
  {
   "cell_type": "code",
   "execution_count": 447,
   "outputs": [
    {
     "name": "stdout",
     "output_type": "stream",
     "text": [
      "Condition:             conditions.append(lambda state: state.rows[row] >= elem)\n",
      ", action: Nimply(row=2, num_objects=2), weight: 1\n",
      "Condition:             conditions.append(lambda state: state.rows[row] >= elem)\n",
      ", action: Nimply(row=4, num_objects=4), weight: 1\n",
      "Condition:             conditions.append(lambda state: state.rows[row] >= elem)\n",
      ", action: Nimply(row=4, num_objects=8), weight: 1\n",
      "Condition:             conditions.append(lambda state: state.rows[row] < elem)\n",
      ", action: Nimply(row=4, num_objects=3), weight: 1\n",
      "Condition:             conditions.append(lambda state: state.rows[row] >= elem)\n",
      ", action: Nimply(row=1, num_objects=3), weight: 1\n",
      "Condition:             conditions.append(lambda state: state.rows[row] >= elem)\n",
      ", action: Nimply(row=3, num_objects=2), weight: 1\n",
      "Condition:             conditions.append(lambda state: state.rows[row] >= elem)\n",
      ", action: Nimply(row=3, num_objects=4), weight: 1\n",
      "Condition:             conditions.append(lambda state: state.rows[row] >= elem)\n",
      ", action: Nimply(row=4, num_objects=9), weight: 1\n",
      "Condition:             conditions.append(lambda state: state.rows[row] < elem)\n",
      ", action: Nimply(row=4, num_objects=7), weight: 1\n",
      "Condition:             conditions.append(lambda state: state.rows[row] < elem)\n",
      ", action: Nimply(row=3, num_objects=2), weight: 1\n",
      "Condition:             conditions.append(lambda state: state.rows[row] < elem)\n",
      ", action: Nimply(row=4, num_objects=4), weight: 1\n",
      "Condition:             conditions.append(lambda state: state.rows[row] >= elem)\n",
      ", action: Nimply(row=3, num_objects=6), weight: 1\n",
      "Condition:             conditions.append(lambda state: state.rows[row] >= elem)\n",
      ", action: Nimply(row=4, num_objects=6), weight: 1\n",
      "Condition:             conditions.append(lambda state: state.rows[row] < elem)\n",
      ", action: Nimply(row=4, num_objects=3), weight: 1\n",
      "Condition:             conditions.append(lambda state: state.rows[row] >= elem)\n",
      ", action: Nimply(row=1, num_objects=3), weight: 1\n",
      "Best agent won: 12/50\n"
     ]
    }
   ],
   "source": [
    "all_rules = rules\n",
    "all_rules.sort(key=lambda rule: rule.weight, reverse=True)\n",
    "\n",
    "best_rules = all_rules[:NUM_RULES]\n",
    "for rule in best_rules:\n",
    "    print(f\"Condition: {inspect.getsource(rule.condition)}, action: {rule.action}, weight: {rule.weight}\")\n",
    "    \n",
    "best_agent = NimAgent(best_rules)\n",
    "\n",
    "for game in range(GAMES_PER_AGENT):\n",
    "    strategy = (optimal, best_agent.make_move)\n",
    "    \n",
    "    nim = Nim(NUM_ROWS)\n",
    "    player = 0\n",
    "    while nim:\n",
    "        ply = strategy[player](nim)\n",
    "        nim.nimming(ply)\n",
    "        player = 1 - player\n",
    "    \n",
    "    if player == 1:\n",
    "        best_agent.played(won=True)\n",
    "    else:\n",
    "        best_agent.played(won=False)\n",
    "\n",
    "print(f\"Best agent won: {int(best_agent.fitness() * GAMES_PER_AGENT)}/{GAMES_PER_AGENT}\")"
   ],
   "metadata": {
    "collapsed": false,
    "ExecuteTime": {
     "end_time": "2023-11-17T11:33:14.509729Z",
     "start_time": "2023-11-17T11:33:14.318921Z"
    }
   }
  }
 ],
 "metadata": {
  "kernelspec": {
   "display_name": "Python 3.10.7 ('ci22-dPIXJ0_o-py3.10')",
   "language": "python",
   "name": "python3"
  },
  "language_info": {
   "codemirror_mode": {
    "name": "ipython",
    "version": 3
   },
   "file_extension": ".py",
   "mimetype": "text/x-python",
   "name": "python",
   "nbconvert_exporter": "python",
   "pygments_lexer": "ipython3",
   "version": "3.11.6"
  },
  "vscode": {
   "interpreter": {
    "hash": "10197e8e2f2aa67e2c349105091c77f4cd384fce4877865f002d9ec653f96bc0"
   }
  }
 },
 "nbformat": 4,
 "nbformat_minor": 2
}
