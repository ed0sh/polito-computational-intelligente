{
 "cells": [
  {
   "cell_type": "code",
   "execution_count": 17,
   "id": "initial_id",
   "metadata": {
    "collapsed": true,
    "ExecuteTime": {
     "end_time": "2023-10-21T08:33:06.537485Z",
     "start_time": "2023-10-21T08:33:06.529271Z"
    }
   },
   "outputs": [],
   "source": [
    "import time\n",
    "from collections import namedtuple\n",
    "from functools import reduce\n",
    "from queue import SimpleQueue, PriorityQueue\n",
    "from random import random\n",
    "\n",
    "import numpy as np"
   ]
  },
  {
   "cell_type": "code",
   "execution_count": 18,
   "outputs": [
    {
     "data": {
      "text/plain": "(array([False, False, False, False,  True, False, False, False]),\n array([False, False, False, False, False,  True, False,  True]),\n array([False, False,  True, False,  True, False,  True, False]),\n array([False, False, False,  True, False, False, False, False]),\n array([False,  True,  True,  True, False, False,  True, False]),\n array([False, False, False, False, False, False, False, False]),\n array([False,  True,  True, False, False,  True, False, False]),\n array([ True, False, False, False,  True, False,  True, False]),\n array([False, False,  True, False,  True,  True, False, False]),\n array([ True, False,  True,  True, False, False,  True, False]))"
     },
     "execution_count": 18,
     "metadata": {},
     "output_type": "execute_result"
    }
   ],
   "source": [
    "PROBLEM_SIZE = 8\n",
    "NUM_SETS = 10\n",
    "SETS = tuple(np.array([random() < .3 for _ in range(PROBLEM_SIZE)]) for _ in range(NUM_SETS))\n",
    "State = namedtuple('State', ['taken', 'not_taken'])\n",
    "SETS"
   ],
   "metadata": {
    "collapsed": false,
    "ExecuteTime": {
     "end_time": "2023-10-21T08:33:06.540061Z",
     "start_time": "2023-10-21T08:33:06.534031Z"
    }
   },
   "id": "b1fbcc7bb7cfe7bf"
  },
  {
   "cell_type": "code",
   "execution_count": 19,
   "outputs": [],
   "source": [
    "def current_cover(state):\n",
    "    return reduce(np.logical_or, [SETS[i] for i in state.taken], np.array([False for _ in range(PROBLEM_SIZE)]))\n",
    "\n",
    "\n",
    "def goal_check(state):\n",
    "    return np.all(current_cover(state))\n",
    "\n",
    "\n",
    "def distance(state):\n",
    "    # Multiply by 1.5 to prioritize covering over tree descending\n",
    "    return (PROBLEM_SIZE - sum(current_cover(state))) * 1.5\n",
    "\n",
    "\n",
    "def actual_cost(current_state):\n",
    "    return len(current_state.taken)\n",
    "\n",
    "\n",
    "def a_star(state, current_state):\n",
    "    return actual_cost(current_state) + distance(state)"
   ],
   "metadata": {
    "collapsed": false,
    "ExecuteTime": {
     "end_time": "2023-10-21T08:33:06.540953Z",
     "start_time": "2023-10-21T08:33:06.538691Z"
    }
   },
   "id": "b0e34342e5da0974"
  },
  {
   "cell_type": "code",
   "execution_count": 20,
   "outputs": [],
   "source": [
    "assert goal_check(State(set(range(NUM_SETS)), set())), \"Problem not solvable\""
   ],
   "metadata": {
    "collapsed": false,
    "ExecuteTime": {
     "end_time": "2023-10-21T08:33:06.547709Z",
     "start_time": "2023-10-21T08:33:06.541336Z"
    }
   },
   "id": "eecd64347f1b188b"
  },
  {
   "cell_type": "code",
   "execution_count": 21,
   "outputs": [
    {
     "name": "stdout",
     "output_type": "stream",
     "text": [
      "Solved in 3 steps (3 tiles) in 0.0004086494445800781s\n"
     ]
    }
   ],
   "source": [
    "frontier = PriorityQueue()\n",
    "state = State(set(), set(range(NUM_SETS)))\n",
    "frontier.put((a_star(state, state), state))\n",
    "\n",
    "start_time = time.time()\n",
    "counter = 0\n",
    "_, current_state = frontier.get()\n",
    "while not goal_check(current_state):\n",
    "    counter += 1\n",
    "    for action in current_state.not_taken:\n",
    "        # Skip empty sets\n",
    "        if sum(current_cover(State(set() ^ {action}, set(range(NUM_SETS)) ^ {action}))) != 0:\n",
    "            new_state = State(current_state.taken ^ {action}, current_state.not_taken ^ {action})\n",
    "            frontier.put((a_star(new_state, current_state), new_state))\n",
    "    _, current_state = frontier.get()\n",
    "\n",
    "print(f\"Solved in {counter} steps ({len(current_state.taken)} tiles) in {time.time() - start_time}s\")"
   ],
   "metadata": {
    "collapsed": false,
    "ExecuteTime": {
     "end_time": "2023-10-21T08:33:06.569410Z",
     "start_time": "2023-10-21T08:33:06.547262Z"
    }
   },
   "id": "57c94816a8c97e89"
  },
  {
   "cell_type": "code",
   "execution_count": 22,
   "outputs": [
    {
     "name": "stdout",
     "output_type": "stream",
     "text": [
      "True 0.0\n"
     ]
    }
   ],
   "source": [
    "print(goal_check(current_state), distance(current_state))"
   ],
   "metadata": {
    "collapsed": false,
    "ExecuteTime": {
     "end_time": "2023-10-21T08:33:06.570265Z",
     "start_time": "2023-10-21T08:33:06.549716Z"
    }
   },
   "id": "7aece8b5a197a5c3"
  },
  {
   "cell_type": "code",
   "execution_count": 23,
   "outputs": [
    {
     "data": {
      "text/plain": "State(taken={1, 4, 7}, not_taken={0, 2, 3, 5, 6, 8, 9})"
     },
     "execution_count": 23,
     "metadata": {},
     "output_type": "execute_result"
    }
   ],
   "source": [
    "current_state"
   ],
   "metadata": {
    "collapsed": false,
    "ExecuteTime": {
     "end_time": "2023-10-21T08:33:06.570680Z",
     "start_time": "2023-10-21T08:33:06.555476Z"
    }
   },
   "id": "c48b7a1ede8485de"
  },
  {
   "cell_type": "code",
   "execution_count": 24,
   "outputs": [
    {
     "data": {
      "text/plain": "[array([False, False, False, False, False,  True, False,  True]),\n array([False,  True,  True,  True, False, False,  True, False]),\n array([ True, False, False, False,  True, False,  True, False])]"
     },
     "execution_count": 24,
     "metadata": {},
     "output_type": "execute_result"
    }
   ],
   "source": [
    "[SETS[i] for i in current_state.taken]"
   ],
   "metadata": {
    "collapsed": false,
    "ExecuteTime": {
     "end_time": "2023-10-21T08:33:06.570977Z",
     "start_time": "2023-10-21T08:33:06.558777Z"
    }
   },
   "id": "1028a7944b062968"
  }
 ],
 "metadata": {
  "kernelspec": {
   "display_name": "Python 3",
   "language": "python",
   "name": "python3"
  },
  "language_info": {
   "codemirror_mode": {
    "name": "ipython",
    "version": 2
   },
   "file_extension": ".py",
   "mimetype": "text/x-python",
   "name": "python",
   "nbconvert_exporter": "python",
   "pygments_lexer": "ipython2",
   "version": "2.7.6"
  }
 },
 "nbformat": 4,
 "nbformat_minor": 5
}
