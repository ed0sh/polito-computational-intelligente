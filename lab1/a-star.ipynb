{
 "cells": [
  {
   "cell_type": "code",
   "execution_count": 23,
   "id": "initial_id",
   "metadata": {
    "collapsed": true,
    "ExecuteTime": {
     "end_time": "2023-10-26T21:55:04.866557Z",
     "start_time": "2023-10-26T21:55:04.820665Z"
    }
   },
   "outputs": [],
   "source": [
    "import time\n",
    "from collections import namedtuple\n",
    "from functools import reduce\n",
    "from queue import SimpleQueue, PriorityQueue\n",
    "from random import random\n",
    "\n",
    "import numpy as np"
   ]
  },
  {
   "cell_type": "code",
   "execution_count": 24,
   "outputs": [
    {
     "data": {
      "text/plain": "(array([ True, False, False,  True,  True,  True,  True, False, False,\n         True]),\n array([False, False,  True,  True,  True, False,  True, False, False,\n        False]),\n array([False, False, False, False, False,  True,  True, False, False,\n        False]),\n array([False,  True, False, False, False, False, False, False, False,\n         True]),\n array([False, False,  True, False, False, False,  True, False,  True,\n        False]),\n array([ True,  True, False,  True,  True,  True, False, False, False,\n        False]),\n array([False, False,  True, False,  True, False, False, False,  True,\n        False]),\n array([False, False, False,  True, False, False, False,  True, False,\n        False]),\n array([ True, False, False, False, False, False, False, False, False,\n         True]),\n array([False,  True, False,  True, False, False, False, False, False,\n        False]),\n array([False, False, False, False, False,  True,  True, False, False,\n         True]),\n array([False,  True, False, False, False, False, False, False, False,\n        False]),\n array([ True,  True, False, False, False,  True,  True, False, False,\n        False]),\n array([ True, False, False, False,  True,  True,  True, False, False,\n        False]),\n array([False,  True, False,  True, False,  True,  True, False,  True,\n        False]),\n array([False,  True, False, False, False,  True, False,  True, False,\n        False]),\n array([False, False, False,  True,  True,  True, False, False, False,\n        False]),\n array([ True, False, False, False, False, False, False,  True, False,\n        False]),\n array([False, False,  True, False, False, False, False,  True, False,\n        False]),\n array([False, False, False, False, False, False, False, False, False,\n        False]))"
     },
     "execution_count": 24,
     "metadata": {},
     "output_type": "execute_result"
    }
   ],
   "source": [
    "PROBLEM_SIZE = 10\n",
    "NUM_SETS = 20\n",
    "SETS = tuple(np.array([random() < .3 for _ in range(PROBLEM_SIZE)]) for _ in range(NUM_SETS))\n",
    "State = namedtuple('State', ['taken', 'not_taken'])\n",
    "SETS"
   ],
   "metadata": {
    "collapsed": false,
    "ExecuteTime": {
     "end_time": "2023-10-26T21:55:04.867353Z",
     "start_time": "2023-10-26T21:55:04.826960Z"
    }
   },
   "id": "b1fbcc7bb7cfe7bf"
  },
  {
   "cell_type": "code",
   "execution_count": 25,
   "outputs": [],
   "source": [
    "def current_cover(state):\n",
    "    return reduce(np.logical_or, [SETS[i] for i in state.taken], np.array([False for _ in range(PROBLEM_SIZE)]))\n",
    "\n",
    "\n",
    "def goal_check(state):\n",
    "    return np.all(current_cover(state))\n",
    "\n",
    "\n",
    "def actual_cost(current_state):\n",
    "    return len(current_state.taken)"
   ],
   "metadata": {
    "collapsed": false,
    "ExecuteTime": {
     "end_time": "2023-10-26T21:55:04.868630Z",
     "start_time": "2023-10-26T21:55:04.829359Z"
    }
   },
   "id": "fd4e100ecfb82f9d"
  },
  {
   "cell_type": "code",
   "execution_count": 26,
   "outputs": [],
   "source": [
    "assert goal_check(State(set(range(NUM_SETS)), set())), \"Problem not solvable\""
   ],
   "metadata": {
    "collapsed": false,
    "ExecuteTime": {
     "end_time": "2023-10-26T21:55:04.901216Z",
     "start_time": "2023-10-26T21:55:04.834522Z"
    }
   },
   "id": "b95e18e0f6c28878"
  },
  {
   "cell_type": "markdown",
   "source": [
    "## A* with cover-weighted sets"
   ],
   "metadata": {
    "collapsed": false
   },
   "id": "14f37855d837bccd"
  },
  {
   "cell_type": "code",
   "execution_count": 27,
   "outputs": [],
   "source": [
    "cell_score = np.sum(SETS, axis=0)\n",
    "set_costs = np.sort([np.dot(cell_score, SETS[i]) for i in range(NUM_SETS)])\n",
    "least_covering_set_score = set_costs[:1]\n",
    "\n",
    "i = 2\n",
    "prev_i = 1\n",
    "while least_covering_set_score == 0:\n",
    "    least_covering_set_score = set_costs[prev_i:i]\n",
    "    \n",
    "goal_score = np.sum(cell_score)\n",
    "\n",
    "def expand_sets(state, taken=False):\n",
    "    if taken:\n",
    "        return [SETS[i] for i in state.taken]\n",
    "    else:\n",
    "        return [SETS[i] for i in state.not_taken]\n",
    "    \n",
    "\n",
    "def distance(state):\n",
    "    set_score = np.dot(cell_score, current_cover(state))\n",
    "    return np.floor((goal_score - set_score) / least_covering_set_score)[0]\n",
    "\n",
    "\n",
    "def a_star(state, current_state):\n",
    "    return actual_cost(current_state) + distance(state)\n"
   ],
   "metadata": {
    "collapsed": false,
    "ExecuteTime": {
     "end_time": "2023-10-26T21:55:04.901389Z",
     "start_time": "2023-10-26T21:55:04.839966Z"
    }
   },
   "id": "6834a35380741faa"
  },
  {
   "cell_type": "code",
   "execution_count": 28,
   "outputs": [
    {
     "name": "stdout",
     "output_type": "stream",
     "text": [
      "Solved in 23 steps (3 tiles) in 0.008954763412475586s\n"
     ]
    }
   ],
   "source": [
    "frontier = PriorityQueue()\n",
    "state = State(set(), set(range(NUM_SETS)))\n",
    "frontier.put((a_star(state, state), state))\n",
    "\n",
    "start_time = time.time()\n",
    "counter = 0\n",
    "_, current_state = frontier.get()\n",
    "while not goal_check(current_state):\n",
    "    counter += 1\n",
    "    for action in current_state.not_taken:\n",
    "        # Skip empty sets\n",
    "        if sum(current_cover(State(set() ^ {action}, set(range(NUM_SETS)) ^ {action}))) != 0:\n",
    "            new_state = State(current_state.taken ^ {action}, current_state.not_taken ^ {action})\n",
    "            frontier.put((a_star(new_state, current_state), new_state))\n",
    "    _, current_state = frontier.get()\n",
    "\n",
    "print(f\"Solved in {counter} steps ({len(current_state.taken)} tiles) in {time.time() - start_time}s\")"
   ],
   "metadata": {
    "collapsed": false,
    "ExecuteTime": {
     "end_time": "2023-10-26T21:55:04.902176Z",
     "start_time": "2023-10-26T21:55:04.849081Z"
    }
   },
   "id": "12e996b1db65f168"
  },
  {
   "cell_type": "code",
   "execution_count": 29,
   "outputs": [
    {
     "name": "stdout",
     "output_type": "stream",
     "text": [
      "State(taken={0, 4, 15}, not_taken={1, 2, 3, 5, 6, 7, 8, 9, 10, 11, 12, 13, 14, 16, 17, 18, 19})\n",
      "True 0.0\n"
     ]
    }
   ],
   "source": [
    "print(current_state)\n",
    "print(goal_check(current_state), distance(current_state))"
   ],
   "metadata": {
    "collapsed": false,
    "ExecuteTime": {
     "end_time": "2023-10-26T21:55:04.902252Z",
     "start_time": "2023-10-26T21:55:04.859492Z"
    }
   },
   "id": "b2bf4509d4461eca"
  },
  {
   "cell_type": "markdown",
   "source": [
    "## Breadth-first"
   ],
   "metadata": {
    "collapsed": false
   },
   "id": "5a116ba5d78c1fad"
  },
  {
   "cell_type": "code",
   "execution_count": 30,
   "outputs": [
    {
     "name": "stdout",
     "output_type": "stream",
     "text": [
      "Solved in 468 steps (3 tiles) in 0.01621413230895996s\n"
     ]
    }
   ],
   "source": [
    "# Breadth-first to check if I found the optimal solution\n",
    "frontier = SimpleQueue()\n",
    "state = State(set(), set(range(NUM_SETS)))\n",
    "frontier.put(state)\n",
    "\n",
    "start_time = time.time()\n",
    "counter = 0\n",
    "current_state = frontier.get()\n",
    "while not goal_check(current_state):\n",
    "    counter += 1\n",
    "    for action in current_state.not_taken:\n",
    "        new_state = State(current_state.taken ^ {action}, current_state.not_taken ^ {action})\n",
    "        frontier.put(new_state)\n",
    "    current_state = frontier.get()\n",
    "\n",
    "print(f\"Solved in {counter} steps ({len(current_state.taken)} tiles) in {time.time() - start_time}s\")"
   ],
   "metadata": {
    "collapsed": false,
    "ExecuteTime": {
     "end_time": "2023-10-26T21:55:04.906273Z",
     "start_time": "2023-10-26T21:55:04.879989Z"
    }
   },
   "id": "50f2fcd68cb07d8e"
  },
  {
   "cell_type": "code",
   "execution_count": 31,
   "outputs": [
    {
     "name": "stdout",
     "output_type": "stream",
     "text": [
      "True 0.0\n"
     ]
    }
   ],
   "source": [
    "print(goal_check(current_state), distance(current_state))"
   ],
   "metadata": {
    "collapsed": false,
    "ExecuteTime": {
     "end_time": "2023-10-26T21:55:04.906387Z",
     "start_time": "2023-10-26T21:55:04.883211Z"
    }
   },
   "id": "7aece8b5a197a5c3"
  },
  {
   "cell_type": "code",
   "execution_count": 32,
   "outputs": [
    {
     "data": {
      "text/plain": "State(taken={0, 4, 15}, not_taken={1, 2, 3, 5, 6, 7, 8, 9, 10, 11, 12, 13, 14, 16, 17, 18, 19})"
     },
     "execution_count": 32,
     "metadata": {},
     "output_type": "execute_result"
    }
   ],
   "source": [
    "current_state"
   ],
   "metadata": {
    "collapsed": false,
    "ExecuteTime": {
     "end_time": "2023-10-26T21:55:04.906499Z",
     "start_time": "2023-10-26T21:55:04.886411Z"
    }
   },
   "id": "c48b7a1ede8485de"
  },
  {
   "cell_type": "code",
   "execution_count": 33,
   "outputs": [
    {
     "data": {
      "text/plain": "[array([ True, False, False,  True,  True,  True,  True, False, False,\n         True]),\n array([False, False,  True, False, False, False,  True, False,  True,\n        False]),\n array([False,  True, False, False, False,  True, False,  True, False,\n        False])]"
     },
     "execution_count": 33,
     "metadata": {},
     "output_type": "execute_result"
    }
   ],
   "source": [
    "[SETS[i] for i in current_state.taken]"
   ],
   "metadata": {
    "collapsed": false,
    "ExecuteTime": {
     "end_time": "2023-10-26T21:55:04.906615Z",
     "start_time": "2023-10-26T21:55:04.889744Z"
    }
   },
   "id": "1028a7944b062968"
  }
 ],
 "metadata": {
  "kernelspec": {
   "display_name": "Python 3",
   "language": "python",
   "name": "python3"
  },
  "language_info": {
   "codemirror_mode": {
    "name": "ipython",
    "version": 2
   },
   "file_extension": ".py",
   "mimetype": "text/x-python",
   "name": "python",
   "nbconvert_exporter": "python",
   "pygments_lexer": "ipython2",
   "version": "2.7.6"
  }
 },
 "nbformat": 4,
 "nbformat_minor": 5
}
